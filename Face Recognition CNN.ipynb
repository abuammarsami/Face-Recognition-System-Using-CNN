{
 "cells": [
  {
   "cell_type": "code",
   "execution_count": 2,
   "metadata": {
    "collapsed": true
   },
   "outputs": [],
   "source": [
    "import keras\n",
    "from keras.models import Sequential\n",
    "from keras.layers import Conv2D, MaxPooling2D, Dense, Flatten, Dropout\n",
    "from tensorflow.keras.optimizers import Adam\n",
    "from keras.callbacks import TensorBoard\n",
    "\n",
    "import numpy as np\n",
    "import pandas as pd\n",
    "import matplotlib.pyplot as plt\n",
    "from sklearn.model_selection import train_test_split\n",
    "\n",
    "from sklearn.metrics import confusion_matrix\n",
    "from sklearn.metrics import classification_report\n",
    "from sklearn.metrics import roc_curve, auc\n",
    "from sklearn.metrics import accuracy_score\n",
    "from keras.utils import np_utils\n",
    "import itertools"
   ]
  },
  {
   "cell_type": "code",
   "execution_count": 4,
   "outputs": [
    {
     "name": "stdout",
     "output_type": "stream",
     "text": [
      "x_train : [[0.1882353  0.19215687 0.1764706  ... 0.18431373 0.18039216 0.18039216]\n",
      " [0.23529412 0.23529412 0.24313726 ... 0.1254902  0.13333334 0.13333334]\n",
      " [0.15294118 0.17254902 0.20784314 ... 0.11372549 0.10196079 0.11372549]\n",
      " ...\n",
      " [0.44705883 0.45882353 0.44705883 ... 0.38431373 0.3764706  0.38431373]\n",
      " [0.4117647  0.4117647  0.41960785 ... 0.21176471 0.18431373 0.16078432]\n",
      " [0.45490196 0.44705883 0.45882353 ... 0.37254903 0.39215687 0.39607844]]\n",
      "Y-train shape: [ 0  0  0  0  0  0  0  0  0  0  0  0  1  1  1  1  1  1  1  1  1  1  1  1\n",
      "  2  2  2  2  2  2  2  2  2  2  2  2  3  3  3  3  3  3  3  3  3  3  3  3\n",
      "  4  4  4  4  4  4  4  4  4  4  4  4  5  5  5  5  5  5  5  5  5  5  5  5\n",
      "  6  6  6  6  6  6  6  6  6  6  6  6  7  7  7  7  7  7  7  7  7  7  7  7\n",
      "  8  8  8  8  8  8  8  8  8  8  8  8  9  9  9  9  9  9  9  9  9  9  9  9\n",
      " 10 10 10 10 10 10 10 10 10 10 10 10 11 11 11 11 11 11 11 11 11 11 11 11\n",
      " 12 12 12 12 12 12 12 12 12 12 12 12 13 13 13 13 13 13 13 13 13 13 13 13\n",
      " 14 14 14 14 14 14 14 14 14 14 14 14 15 15 15 15 15 15 15 15 15 15 15 15\n",
      " 16 16 16 16 16 16 16 16 16 16 16 16 17 17 17 17 17 17 17 17 17 17 17 17\n",
      " 18 18 18 18 18 18 18 18 18 18 18 18 19 19 19 19 19 19 19 19 19 19 19 19]\n",
      "x_test shape: (160, 10304)\n"
     ]
    }
   ],
   "source": [
    "#load dataset\n",
    "data = np.load('ORL_faces.npz')\n",
    "\n",
    "# load the \"Train Images\"\n",
    "x_train = data['trainX']\n",
    "#normalize every image\n",
    "x_train = np.array(x_train,dtype='float32')/255\n",
    "\n",
    "x_test = data['testX']\n",
    "x_test = np.array(x_test,dtype='float32')/255\n",
    "\n",
    "# load the Label of Images\n",
    "y_train= data['trainY']\n",
    "y_test= data['testY']\n",
    "\n",
    "# show the train and test Data format\n",
    "print('x_train : {}'.format(x_train[:]))\n",
    "print('Y-train shape: {}'.format(y_train))\n",
    "print('x_test shape: {}'.format(x_test.shape))"
   ],
   "metadata": {
    "collapsed": false,
    "pycharm": {
     "name": "#%%\n"
    }
   }
  },
  {
   "cell_type": "code",
   "execution_count": 5,
   "outputs": [],
   "source": [
    "\n",
    "x_train, x_valid, y_train, y_valid= train_test_split(\n",
    "    x_train, y_train, test_size=.05, random_state=1234,)"
   ],
   "metadata": {
    "collapsed": false,
    "pycharm": {
     "name": "#%%\n"
    }
   }
  },
  {
   "cell_type": "code",
   "execution_count": 6,
   "outputs": [
    {
     "name": "stdout",
     "output_type": "stream",
     "text": [
      "x_train shape: 228\n",
      "x_test shape: (160,)\n"
     ]
    }
   ],
   "source": [
    "im_rows=112\n",
    "im_cols=92\n",
    "batch_size=512\n",
    "im_shape=(im_rows, im_cols, 1)\n",
    "\n",
    "#change the size of images\n",
    "x_train = x_train.reshape(x_train.shape[0], *im_shape)\n",
    "x_test = x_test.reshape(x_test.shape[0], *im_shape)\n",
    "x_valid = x_valid.reshape(x_valid.shape[0], *im_shape)\n",
    "\n",
    "print('x_train shape: {}'.format(y_train.shape[0]))\n",
    "print('x_test shape: {}'.format(y_test.shape))"
   ],
   "metadata": {
    "collapsed": false,
    "pycharm": {
     "name": "#%%\n"
    }
   }
  },
  {
   "cell_type": "code",
   "execution_count": 13,
   "outputs": [
    {
     "name": "stderr",
     "output_type": "stream",
     "text": [
      "D:\\CSE299_Project\\My Project\\Face Recognition System (CSE299)\\venv\\lib\\site-packages\\keras\\optimizer_v2\\optimizer_v2.py:355: UserWarning: The `lr` argument is deprecated, use `learning_rate` instead.\n",
      "  warnings.warn(\n"
     ]
    }
   ],
   "source": [
    "#filters= the depth of output image or kernels\n",
    "\n",
    "cnn_model= Sequential([\n",
    "    Conv2D(filters=36, kernel_size=7, activation='relu', input_shape= im_shape),\n",
    "    MaxPooling2D(pool_size=2),\n",
    "    Conv2D(filters=54, kernel_size=5, activation='relu', input_shape= im_shape),\n",
    "    MaxPooling2D(pool_size=2),\n",
    "    Flatten(),\n",
    "\n",
    "    #20 is the number of outputs\n",
    "    Dense(20, activation='softmax')\n",
    "])\n",
    "\n",
    "cnn_model.compile(\n",
    "    loss='sparse_categorical_crossentropy',#'categorical_crossentropy',\n",
    "    optimizer=Adam(lr=0.0001),\n",
    "    metrics=['accuracy']\n",
    ")"
   ],
   "metadata": {
    "collapsed": false,
    "pycharm": {
     "name": "#%%\n"
    }
   }
  },
  {
   "cell_type": "code",
   "execution_count": 14,
   "outputs": [
    {
     "name": "stdout",
     "output_type": "stream",
     "text": [
      "Model: \"sequential_1\"\n",
      "_________________________________________________________________\n",
      "Layer (type)                 Output Shape              Param #   \n",
      "=================================================================\n",
      "conv2d_2 (Conv2D)            (None, 106, 86, 36)       1800      \n",
      "_________________________________________________________________\n",
      "max_pooling2d_2 (MaxPooling2 (None, 53, 43, 36)        0         \n",
      "_________________________________________________________________\n",
      "conv2d_3 (Conv2D)            (None, 49, 39, 54)        48654     \n",
      "_________________________________________________________________\n",
      "max_pooling2d_3 (MaxPooling2 (None, 24, 19, 54)        0         \n",
      "_________________________________________________________________\n",
      "flatten_1 (Flatten)          (None, 24624)             0         \n",
      "_________________________________________________________________\n",
      "dense_4 (Dense)              (None, 20)                492500    \n",
      "=================================================================\n",
      "Total params: 542,954\n",
      "Trainable params: 542,954\n",
      "Non-trainable params: 0\n",
      "_________________________________________________________________\n"
     ]
    }
   ],
   "source": [
    "\n",
    "cnn_model.summary()"
   ],
   "metadata": {
    "collapsed": false,
    "pycharm": {
     "name": "#%%\n"
    }
   }
  },
  {
   "cell_type": "code",
   "execution_count": 9,
   "outputs": [
    {
     "name": "stdout",
     "output_type": "stream",
     "text": [
      "Epoch 1/150\n",
      "1/1 - 28s - loss: 2.9948 - accuracy: 0.0570 - val_loss: 2.9926 - val_accuracy: 0.0833\n",
      "Epoch 2/150\n",
      "1/1 - 0s - loss: 2.9977 - accuracy: 0.0658 - val_loss: 3.0133 - val_accuracy: 0.0000e+00\n",
      "Epoch 3/150\n",
      "1/1 - 0s - loss: 3.0408 - accuracy: 0.0570 - val_loss: 3.0208 - val_accuracy: 0.0000e+00\n",
      "Epoch 4/150\n",
      "1/1 - 0s - loss: 2.9969 - accuracy: 0.0702 - val_loss: 3.0157 - val_accuracy: 0.0000e+00\n",
      "Epoch 5/150\n",
      "1/1 - 0s - loss: 2.9948 - accuracy: 0.0570 - val_loss: 3.0129 - val_accuracy: 0.0000e+00\n",
      "Epoch 6/150\n",
      "1/1 - 0s - loss: 2.9856 - accuracy: 0.0570 - val_loss: 3.0086 - val_accuracy: 0.0000e+00\n",
      "Epoch 7/150\n",
      "1/1 - 0s - loss: 2.9697 - accuracy: 0.0614 - val_loss: 3.0049 - val_accuracy: 0.0000e+00\n",
      "Epoch 8/150\n",
      "1/1 - 0s - loss: 3.0046 - accuracy: 0.0789 - val_loss: 2.9991 - val_accuracy: 0.0000e+00\n",
      "Epoch 9/150\n",
      "1/1 - 0s - loss: 2.9823 - accuracy: 0.0658 - val_loss: 2.9910 - val_accuracy: 0.0000e+00\n",
      "Epoch 10/150\n",
      "1/1 - 0s - loss: 2.9842 - accuracy: 0.0877 - val_loss: 2.9839 - val_accuracy: 0.0000e+00\n",
      "Epoch 11/150\n",
      "1/1 - 0s - loss: 2.9524 - accuracy: 0.0877 - val_loss: 2.9771 - val_accuracy: 0.0000e+00\n",
      "Epoch 12/150\n",
      "1/1 - 0s - loss: 2.9520 - accuracy: 0.0921 - val_loss: 2.9728 - val_accuracy: 0.0000e+00\n",
      "Epoch 13/150\n",
      "1/1 - 0s - loss: 2.9495 - accuracy: 0.0965 - val_loss: 2.9686 - val_accuracy: 0.0000e+00\n",
      "Epoch 14/150\n",
      "1/1 - 0s - loss: 2.9215 - accuracy: 0.1096 - val_loss: 2.9635 - val_accuracy: 0.0833\n",
      "Epoch 15/150\n",
      "1/1 - 0s - loss: 2.9448 - accuracy: 0.0965 - val_loss: 2.9561 - val_accuracy: 0.0833\n",
      "Epoch 16/150\n",
      "1/1 - 0s - loss: 2.9256 - accuracy: 0.1184 - val_loss: 2.9481 - val_accuracy: 0.0833\n",
      "Epoch 17/150\n",
      "1/1 - 0s - loss: 2.9395 - accuracy: 0.0877 - val_loss: 2.9407 - val_accuracy: 0.1667\n",
      "Epoch 18/150\n",
      "1/1 - 0s - loss: 2.9217 - accuracy: 0.1140 - val_loss: 2.9331 - val_accuracy: 0.1667\n",
      "Epoch 19/150\n",
      "1/1 - 0s - loss: 2.9053 - accuracy: 0.1623 - val_loss: 2.9260 - val_accuracy: 0.2500\n",
      "Epoch 20/150\n",
      "1/1 - 0s - loss: 2.8939 - accuracy: 0.1754 - val_loss: 2.9148 - val_accuracy: 0.2500\n",
      "Epoch 21/150\n",
      "1/1 - 0s - loss: 2.8741 - accuracy: 0.1886 - val_loss: 2.9024 - val_accuracy: 0.2500\n",
      "Epoch 22/150\n",
      "1/1 - 0s - loss: 2.8658 - accuracy: 0.1579 - val_loss: 2.8895 - val_accuracy: 0.2500\n",
      "Epoch 23/150\n",
      "1/1 - 0s - loss: 2.8481 - accuracy: 0.2018 - val_loss: 2.8761 - val_accuracy: 0.1667\n",
      "Epoch 24/150\n",
      "1/1 - 0s - loss: 2.8299 - accuracy: 0.1754 - val_loss: 2.8620 - val_accuracy: 0.0833\n",
      "Epoch 25/150\n",
      "1/1 - 0s - loss: 2.7885 - accuracy: 0.2456 - val_loss: 2.8455 - val_accuracy: 0.0000e+00\n",
      "Epoch 26/150\n",
      "1/1 - 0s - loss: 2.7681 - accuracy: 0.2281 - val_loss: 2.8269 - val_accuracy: 0.0833\n",
      "Epoch 27/150\n",
      "1/1 - 0s - loss: 2.7370 - accuracy: 0.2237 - val_loss: 2.8069 - val_accuracy: 0.0833\n",
      "Epoch 28/150\n",
      "1/1 - 0s - loss: 2.7381 - accuracy: 0.2061 - val_loss: 2.7870 - val_accuracy: 0.0833\n",
      "Epoch 29/150\n",
      "1/1 - 0s - loss: 2.7072 - accuracy: 0.2412 - val_loss: 2.7638 - val_accuracy: 0.0833\n",
      "Epoch 30/150\n",
      "1/1 - 0s - loss: 2.6776 - accuracy: 0.2237 - val_loss: 2.7317 - val_accuracy: 0.1667\n",
      "Epoch 31/150\n",
      "1/1 - 0s - loss: 2.6069 - accuracy: 0.2895 - val_loss: 2.6898 - val_accuracy: 0.2500\n",
      "Epoch 32/150\n",
      "1/1 - 0s - loss: 2.5917 - accuracy: 0.2851 - val_loss: 2.6430 - val_accuracy: 0.2500\n",
      "Epoch 33/150\n",
      "1/1 - 0s - loss: 2.6202 - accuracy: 0.2237 - val_loss: 2.5916 - val_accuracy: 0.3333\n",
      "Epoch 34/150\n",
      "1/1 - 0s - loss: 2.5334 - accuracy: 0.2851 - val_loss: 2.5420 - val_accuracy: 0.3333\n",
      "Epoch 35/150\n",
      "1/1 - 0s - loss: 2.4891 - accuracy: 0.3728 - val_loss: 2.4942 - val_accuracy: 0.3333\n",
      "Epoch 36/150\n",
      "1/1 - 0s - loss: 2.4586 - accuracy: 0.3377 - val_loss: 2.4435 - val_accuracy: 0.4167\n",
      "Epoch 37/150\n",
      "1/1 - 0s - loss: 2.3646 - accuracy: 0.3465 - val_loss: 2.3886 - val_accuracy: 0.4167\n",
      "Epoch 38/150\n",
      "1/1 - 0s - loss: 2.3430 - accuracy: 0.3421 - val_loss: 2.3335 - val_accuracy: 0.4167\n",
      "Epoch 39/150\n",
      "1/1 - 0s - loss: 2.3043 - accuracy: 0.3465 - val_loss: 2.2733 - val_accuracy: 0.4167\n",
      "Epoch 40/150\n",
      "1/1 - 0s - loss: 2.2409 - accuracy: 0.3377 - val_loss: 2.2068 - val_accuracy: 0.4167\n",
      "Epoch 41/150\n",
      "1/1 - 0s - loss: 2.1914 - accuracy: 0.4167 - val_loss: 2.1461 - val_accuracy: 0.4167\n",
      "Epoch 42/150\n",
      "1/1 - 0s - loss: 2.1498 - accuracy: 0.3860 - val_loss: 2.0804 - val_accuracy: 0.5833\n",
      "Epoch 43/150\n",
      "1/1 - 0s - loss: 2.1034 - accuracy: 0.4079 - val_loss: 2.0101 - val_accuracy: 0.6667\n",
      "Epoch 44/150\n",
      "1/1 - 0s - loss: 2.0737 - accuracy: 0.3640 - val_loss: 1.9520 - val_accuracy: 0.6667\n",
      "Epoch 45/150\n",
      "1/1 - 0s - loss: 1.9062 - accuracy: 0.4386 - val_loss: 1.8955 - val_accuracy: 0.5833\n",
      "Epoch 46/150\n",
      "1/1 - 0s - loss: 1.9262 - accuracy: 0.4386 - val_loss: 1.8430 - val_accuracy: 0.5833\n",
      "Epoch 47/150\n",
      "1/1 - 0s - loss: 1.8890 - accuracy: 0.4211 - val_loss: 1.8006 - val_accuracy: 0.5833\n",
      "Epoch 48/150\n",
      "1/1 - 0s - loss: 1.6891 - accuracy: 0.4956 - val_loss: 1.7570 - val_accuracy: 0.5833\n",
      "Epoch 49/150\n",
      "1/1 - 0s - loss: 1.7550 - accuracy: 0.4868 - val_loss: 1.6963 - val_accuracy: 0.5833\n",
      "Epoch 50/150\n",
      "1/1 - 0s - loss: 1.7152 - accuracy: 0.5044 - val_loss: 1.6146 - val_accuracy: 0.5833\n",
      "Epoch 51/150\n",
      "1/1 - 0s - loss: 1.6405 - accuracy: 0.5395 - val_loss: 1.5282 - val_accuracy: 0.7500\n",
      "Epoch 52/150\n",
      "1/1 - 0s - loss: 1.5785 - accuracy: 0.5351 - val_loss: 1.4415 - val_accuracy: 0.8333\n",
      "Epoch 53/150\n",
      "1/1 - 0s - loss: 1.5179 - accuracy: 0.5439 - val_loss: 1.3572 - val_accuracy: 0.8333\n",
      "Epoch 54/150\n",
      "1/1 - 0s - loss: 1.5530 - accuracy: 0.5395 - val_loss: 1.2852 - val_accuracy: 0.8333\n",
      "Epoch 55/150\n",
      "1/1 - 0s - loss: 1.4095 - accuracy: 0.6096 - val_loss: 1.2193 - val_accuracy: 0.8333\n",
      "Epoch 56/150\n",
      "1/1 - 0s - loss: 1.3226 - accuracy: 0.6360 - val_loss: 1.1466 - val_accuracy: 0.8333\n",
      "Epoch 57/150\n",
      "1/1 - 0s - loss: 1.3767 - accuracy: 0.5702 - val_loss: 1.0730 - val_accuracy: 0.8333\n",
      "Epoch 58/150\n",
      "1/1 - 0s - loss: 1.2085 - accuracy: 0.6404 - val_loss: 1.0122 - val_accuracy: 0.8333\n",
      "Epoch 59/150\n",
      "1/1 - 0s - loss: 1.2032 - accuracy: 0.6228 - val_loss: 0.9636 - val_accuracy: 0.8333\n",
      "Epoch 60/150\n",
      "1/1 - 0s - loss: 1.1370 - accuracy: 0.6316 - val_loss: 0.9011 - val_accuracy: 0.8333\n",
      "Epoch 61/150\n",
      "1/1 - 0s - loss: 1.1611 - accuracy: 0.6360 - val_loss: 0.8232 - val_accuracy: 0.9167\n",
      "Epoch 62/150\n",
      "1/1 - 0s - loss: 1.1281 - accuracy: 0.6535 - val_loss: 0.7609 - val_accuracy: 0.9167\n",
      "Epoch 63/150\n",
      "1/1 - 0s - loss: 0.9799 - accuracy: 0.7368 - val_loss: 0.7053 - val_accuracy: 0.9167\n",
      "Epoch 64/150\n",
      "1/1 - 0s - loss: 0.8851 - accuracy: 0.7237 - val_loss: 0.6619 - val_accuracy: 0.9167\n",
      "Epoch 65/150\n",
      "1/1 - 0s - loss: 0.9137 - accuracy: 0.7412 - val_loss: 0.6230 - val_accuracy: 0.9167\n",
      "Epoch 66/150\n",
      "1/1 - 0s - loss: 0.8650 - accuracy: 0.7763 - val_loss: 0.5515 - val_accuracy: 1.0000\n",
      "Epoch 67/150\n",
      "1/1 - 0s - loss: 0.8194 - accuracy: 0.7544 - val_loss: 0.4872 - val_accuracy: 1.0000\n",
      "Epoch 68/150\n",
      "1/1 - 0s - loss: 0.8367 - accuracy: 0.7851 - val_loss: 0.4509 - val_accuracy: 1.0000\n",
      "Epoch 69/150\n",
      "1/1 - 0s - loss: 0.7538 - accuracy: 0.7851 - val_loss: 0.4422 - val_accuracy: 1.0000\n",
      "Epoch 70/150\n",
      "1/1 - 0s - loss: 0.7279 - accuracy: 0.7763 - val_loss: 0.4252 - val_accuracy: 0.9167\n",
      "Epoch 71/150\n",
      "1/1 - 0s - loss: 0.6202 - accuracy: 0.8289 - val_loss: 0.3736 - val_accuracy: 1.0000\n",
      "Epoch 72/150\n",
      "1/1 - 0s - loss: 0.6285 - accuracy: 0.8246 - val_loss: 0.3301 - val_accuracy: 1.0000\n",
      "Epoch 73/150\n",
      "1/1 - 0s - loss: 0.6418 - accuracy: 0.8158 - val_loss: 0.3154 - val_accuracy: 0.9167\n",
      "Epoch 74/150\n",
      "1/1 - 0s - loss: 0.5717 - accuracy: 0.8509 - val_loss: 0.3157 - val_accuracy: 0.9167\n",
      "Epoch 75/150\n",
      "1/1 - 0s - loss: 0.5720 - accuracy: 0.8202 - val_loss: 0.3087 - val_accuracy: 0.9167\n",
      "Epoch 76/150\n",
      "1/1 - 0s - loss: 0.5275 - accuracy: 0.8377 - val_loss: 0.2787 - val_accuracy: 0.9167\n",
      "Epoch 77/150\n",
      "1/1 - 0s - loss: 0.5072 - accuracy: 0.8421 - val_loss: 0.2245 - val_accuracy: 1.0000\n",
      "Epoch 78/150\n",
      "1/1 - 0s - loss: 0.5579 - accuracy: 0.8465 - val_loss: 0.1972 - val_accuracy: 1.0000\n",
      "Epoch 79/150\n",
      "1/1 - 0s - loss: 0.4517 - accuracy: 0.8596 - val_loss: 0.1974 - val_accuracy: 0.9167\n",
      "Epoch 80/150\n",
      "1/1 - 0s - loss: 0.4380 - accuracy: 0.8728 - val_loss: 0.2228 - val_accuracy: 0.9167\n",
      "Epoch 81/150\n",
      "1/1 - 0s - loss: 0.4962 - accuracy: 0.8289 - val_loss: 0.2000 - val_accuracy: 1.0000\n",
      "Epoch 82/150\n",
      "1/1 - 0s - loss: 0.4412 - accuracy: 0.8684 - val_loss: 0.1572 - val_accuracy: 1.0000\n",
      "Epoch 83/150\n",
      "1/1 - 0s - loss: 0.4086 - accuracy: 0.8904 - val_loss: 0.1375 - val_accuracy: 1.0000\n",
      "Epoch 84/150\n",
      "1/1 - 0s - loss: 0.3828 - accuracy: 0.9079 - val_loss: 0.1279 - val_accuracy: 1.0000\n",
      "Epoch 85/150\n",
      "1/1 - 0s - loss: 0.3572 - accuracy: 0.9167 - val_loss: 0.1294 - val_accuracy: 1.0000\n",
      "Epoch 86/150\n",
      "1/1 - 0s - loss: 0.2748 - accuracy: 0.9474 - val_loss: 0.1502 - val_accuracy: 1.0000\n",
      "Epoch 87/150\n",
      "1/1 - 0s - loss: 0.3540 - accuracy: 0.9079 - val_loss: 0.1674 - val_accuracy: 0.9167\n",
      "Epoch 88/150\n",
      "1/1 - 0s - loss: 0.3320 - accuracy: 0.9123 - val_loss: 0.1356 - val_accuracy: 1.0000\n",
      "Epoch 89/150\n",
      "1/1 - 0s - loss: 0.2944 - accuracy: 0.9211 - val_loss: 0.0868 - val_accuracy: 1.0000\n",
      "Epoch 90/150\n",
      "1/1 - 0s - loss: 0.3166 - accuracy: 0.9298 - val_loss: 0.0592 - val_accuracy: 1.0000\n",
      "Epoch 91/150\n",
      "1/1 - 0s - loss: 0.1851 - accuracy: 0.9693 - val_loss: 0.0495 - val_accuracy: 1.0000\n",
      "Epoch 92/150\n",
      "1/1 - 0s - loss: 0.2663 - accuracy: 0.9211 - val_loss: 0.0454 - val_accuracy: 1.0000\n",
      "Epoch 93/150\n",
      "1/1 - 0s - loss: 0.2761 - accuracy: 0.9211 - val_loss: 0.0599 - val_accuracy: 1.0000\n",
      "Epoch 94/150\n",
      "1/1 - 0s - loss: 0.2085 - accuracy: 0.9342 - val_loss: 0.0973 - val_accuracy: 1.0000\n",
      "Epoch 95/150\n",
      "1/1 - 0s - loss: 0.2678 - accuracy: 0.9079 - val_loss: 0.0935 - val_accuracy: 1.0000\n",
      "Epoch 96/150\n",
      "1/1 - 0s - loss: 0.1654 - accuracy: 0.9649 - val_loss: 0.0782 - val_accuracy: 1.0000\n",
      "Epoch 97/150\n",
      "1/1 - 0s - loss: 0.2398 - accuracy: 0.9430 - val_loss: 0.0584 - val_accuracy: 1.0000\n",
      "Epoch 98/150\n",
      "1/1 - 0s - loss: 0.2217 - accuracy: 0.9342 - val_loss: 0.0483 - val_accuracy: 1.0000\n",
      "Epoch 99/150\n",
      "1/1 - 0s - loss: 0.1918 - accuracy: 0.9605 - val_loss: 0.0445 - val_accuracy: 1.0000\n",
      "Epoch 100/150\n",
      "1/1 - 0s - loss: 0.1962 - accuracy: 0.9518 - val_loss: 0.0485 - val_accuracy: 1.0000\n",
      "Epoch 101/150\n",
      "1/1 - 0s - loss: 0.1516 - accuracy: 0.9649 - val_loss: 0.0564 - val_accuracy: 1.0000\n",
      "Epoch 102/150\n",
      "1/1 - 0s - loss: 0.1752 - accuracy: 0.9561 - val_loss: 0.0616 - val_accuracy: 1.0000\n",
      "Epoch 103/150\n",
      "1/1 - 0s - loss: 0.1729 - accuracy: 0.9649 - val_loss: 0.0520 - val_accuracy: 1.0000\n",
      "Epoch 104/150\n",
      "1/1 - 0s - loss: 0.1835 - accuracy: 0.9474 - val_loss: 0.0382 - val_accuracy: 1.0000\n",
      "Epoch 105/150\n",
      "1/1 - 0s - loss: 0.1432 - accuracy: 0.9649 - val_loss: 0.0285 - val_accuracy: 1.0000\n",
      "Epoch 106/150\n",
      "1/1 - 0s - loss: 0.1478 - accuracy: 0.9737 - val_loss: 0.0257 - val_accuracy: 1.0000\n",
      "Epoch 107/150\n",
      "1/1 - 0s - loss: 0.1807 - accuracy: 0.9474 - val_loss: 0.0235 - val_accuracy: 1.0000\n",
      "Epoch 108/150\n",
      "1/1 - 0s - loss: 0.1931 - accuracy: 0.9561 - val_loss: 0.0235 - val_accuracy: 1.0000\n",
      "Epoch 109/150\n",
      "1/1 - 0s - loss: 0.1120 - accuracy: 0.9781 - val_loss: 0.0240 - val_accuracy: 1.0000\n",
      "Epoch 110/150\n",
      "1/1 - 0s - loss: 0.1009 - accuracy: 0.9868 - val_loss: 0.0241 - val_accuracy: 1.0000\n",
      "Epoch 111/150\n",
      "1/1 - 0s - loss: 0.1393 - accuracy: 0.9605 - val_loss: 0.0213 - val_accuracy: 1.0000\n",
      "Epoch 112/150\n",
      "1/1 - 0s - loss: 0.0853 - accuracy: 0.9781 - val_loss: 0.0188 - val_accuracy: 1.0000\n",
      "Epoch 113/150\n",
      "1/1 - 0s - loss: 0.1366 - accuracy: 0.9605 - val_loss: 0.0192 - val_accuracy: 1.0000\n",
      "Epoch 114/150\n",
      "1/1 - 0s - loss: 0.1125 - accuracy: 0.9825 - val_loss: 0.0217 - val_accuracy: 1.0000\n",
      "Epoch 115/150\n",
      "1/1 - 0s - loss: 0.1108 - accuracy: 0.9781 - val_loss: 0.0264 - val_accuracy: 1.0000\n",
      "Epoch 116/150\n",
      "1/1 - 0s - loss: 0.1214 - accuracy: 0.9781 - val_loss: 0.0287 - val_accuracy: 1.0000\n",
      "Epoch 117/150\n",
      "1/1 - 0s - loss: 0.0811 - accuracy: 0.9781 - val_loss: 0.0249 - val_accuracy: 1.0000\n",
      "Epoch 118/150\n",
      "1/1 - 0s - loss: 0.1053 - accuracy: 0.9825 - val_loss: 0.0203 - val_accuracy: 1.0000\n",
      "Epoch 119/150\n",
      "1/1 - 0s - loss: 0.0940 - accuracy: 0.9781 - val_loss: 0.0176 - val_accuracy: 1.0000\n",
      "Epoch 120/150\n",
      "1/1 - 0s - loss: 0.1089 - accuracy: 0.9868 - val_loss: 0.0128 - val_accuracy: 1.0000\n",
      "Epoch 121/150\n",
      "1/1 - 0s - loss: 0.1022 - accuracy: 0.9693 - val_loss: 0.0113 - val_accuracy: 1.0000\n",
      "Epoch 122/150\n",
      "1/1 - 0s - loss: 0.0884 - accuracy: 0.9693 - val_loss: 0.0113 - val_accuracy: 1.0000\n",
      "Epoch 123/150\n",
      "1/1 - 0s - loss: 0.0811 - accuracy: 0.9868 - val_loss: 0.0134 - val_accuracy: 1.0000\n",
      "Epoch 124/150\n",
      "1/1 - 0s - loss: 0.0749 - accuracy: 0.9693 - val_loss: 0.0173 - val_accuracy: 1.0000\n",
      "Epoch 125/150\n",
      "1/1 - 0s - loss: 0.0689 - accuracy: 0.9868 - val_loss: 0.0210 - val_accuracy: 1.0000\n",
      "Epoch 126/150\n",
      "1/1 - 0s - loss: 0.0841 - accuracy: 0.9868 - val_loss: 0.0205 - val_accuracy: 1.0000\n",
      "Epoch 127/150\n",
      "1/1 - 0s - loss: 0.0475 - accuracy: 1.0000 - val_loss: 0.0172 - val_accuracy: 1.0000\n",
      "Epoch 128/150\n",
      "1/1 - 0s - loss: 0.0454 - accuracy: 0.9956 - val_loss: 0.0128 - val_accuracy: 1.0000\n",
      "Epoch 129/150\n",
      "1/1 - 0s - loss: 0.0420 - accuracy: 0.9956 - val_loss: 0.0087 - val_accuracy: 1.0000\n",
      "Epoch 130/150\n",
      "1/1 - 0s - loss: 0.0711 - accuracy: 0.9868 - val_loss: 0.0052 - val_accuracy: 1.0000\n",
      "Epoch 131/150\n",
      "1/1 - 0s - loss: 0.0675 - accuracy: 0.9868 - val_loss: 0.0037 - val_accuracy: 1.0000\n",
      "Epoch 132/150\n",
      "1/1 - 0s - loss: 0.0457 - accuracy: 0.9956 - val_loss: 0.0032 - val_accuracy: 1.0000\n",
      "Epoch 133/150\n",
      "1/1 - 0s - loss: 0.0488 - accuracy: 0.9868 - val_loss: 0.0029 - val_accuracy: 1.0000\n",
      "Epoch 134/150\n",
      "1/1 - 0s - loss: 0.0648 - accuracy: 0.9825 - val_loss: 0.0039 - val_accuracy: 1.0000\n",
      "Epoch 135/150\n",
      "1/1 - 0s - loss: 0.0520 - accuracy: 0.9868 - val_loss: 0.0069 - val_accuracy: 1.0000\n",
      "Epoch 136/150\n",
      "1/1 - 0s - loss: 0.0571 - accuracy: 0.9781 - val_loss: 0.0120 - val_accuracy: 1.0000\n",
      "Epoch 137/150\n",
      "1/1 - 0s - loss: 0.0477 - accuracy: 0.9868 - val_loss: 0.0137 - val_accuracy: 1.0000\n",
      "Epoch 138/150\n",
      "1/1 - 0s - loss: 0.0658 - accuracy: 0.9781 - val_loss: 0.0106 - val_accuracy: 1.0000\n",
      "Epoch 139/150\n",
      "1/1 - 0s - loss: 0.0668 - accuracy: 0.9825 - val_loss: 0.0075 - val_accuracy: 1.0000\n",
      "Epoch 140/150\n",
      "1/1 - 0s - loss: 0.0491 - accuracy: 0.9825 - val_loss: 0.0050 - val_accuracy: 1.0000\n",
      "Epoch 141/150\n",
      "1/1 - 0s - loss: 0.0261 - accuracy: 1.0000 - val_loss: 0.0039 - val_accuracy: 1.0000\n",
      "Epoch 142/150\n",
      "1/1 - 0s - loss: 0.0389 - accuracy: 0.9956 - val_loss: 0.0036 - val_accuracy: 1.0000\n",
      "Epoch 143/150\n",
      "1/1 - 0s - loss: 0.0614 - accuracy: 0.9912 - val_loss: 0.0040 - val_accuracy: 1.0000\n",
      "Epoch 144/150\n",
      "1/1 - 0s - loss: 0.0437 - accuracy: 0.9868 - val_loss: 0.0048 - val_accuracy: 1.0000\n",
      "Epoch 145/150\n",
      "1/1 - 0s - loss: 0.0394 - accuracy: 0.9868 - val_loss: 0.0061 - val_accuracy: 1.0000\n",
      "Epoch 146/150\n",
      "1/1 - 0s - loss: 0.0443 - accuracy: 0.9912 - val_loss: 0.0066 - val_accuracy: 1.0000\n",
      "Epoch 147/150\n",
      "1/1 - 0s - loss: 0.0565 - accuracy: 0.9825 - val_loss: 0.0052 - val_accuracy: 1.0000\n",
      "Epoch 148/150\n",
      "1/1 - 0s - loss: 0.0356 - accuracy: 0.9912 - val_loss: 0.0041 - val_accuracy: 1.0000\n",
      "Epoch 149/150\n",
      "1/1 - 0s - loss: 0.0301 - accuracy: 1.0000 - val_loss: 0.0031 - val_accuracy: 1.0000\n",
      "Epoch 150/150\n",
      "1/1 - 0s - loss: 0.0492 - accuracy: 0.9912 - val_loss: 0.0024 - val_accuracy: 1.0000\n"
     ]
    }
   ],
   "source": [
    "history=cnn_model.fit(\n",
    "    np.array(x_train), np.array(y_train), batch_size=512,\n",
    "    epochs=150, verbose=2,\n",
    "    validation_data=(np.array(x_valid),np.array(y_valid)),\n",
    ")"
   ],
   "metadata": {
    "collapsed": false,
    "pycharm": {
     "name": "#%%\n"
    }
   }
  },
  {
   "cell_type": "code",
   "execution_count": 10,
   "outputs": [
    {
     "name": "stdout",
     "output_type": "stream",
     "text": [
      "test los 0.3283\n",
      "test acc 0.9375\n"
     ]
    }
   ],
   "source": [
    "scor = cnn_model.evaluate( np.array(x_test),  np.array(y_test), verbose=0)\n",
    "\n",
    "print('test los {:.4f}'.format(scor[0]))\n",
    "print('test acc {:.4f}'.format(scor[1]))"
   ],
   "metadata": {
    "collapsed": false,
    "pycharm": {
     "name": "#%%\n"
    }
   }
  },
  {
   "cell_type": "code",
   "execution_count": 12,
   "outputs": [
    {
     "name": "stdout",
     "output_type": "stream",
     "text": [
      "dict_keys(['loss', 'accuracy', 'val_loss', 'val_accuracy'])\n"
     ]
    },
    {
     "data": {
      "text/plain": "<Figure size 432x288 with 1 Axes>",
      "image/png": "[encoded data removed]"
     },
     "metadata": {
      "needs_background": "light"
     },
     "output_type": "display_data"
    },
    {
     "data": {
      "text/plain": "<Figure size 432x288 with 1 Axes>",
      "image/png": "[encoded data removed]"
     },
     "metadata": {
      "needs_background": "light"
     },
     "output_type": "display_data"
    }
   ],
   "source": [
    "# list all data in history\n",
    "print(history.history.keys())\n",
    "# summarize history for accuracy\n",
    "plt.plot(history.history['accuracy'])\n",
    "plt.plot(history.history['val_accuracy'])\n",
    "plt.title('model accuracy')\n",
    "plt.ylabel('accuracy')\n",
    "plt.xlabel('epoch')\n",
    "plt.legend(['train', 'test'], loc='upper left')\n",
    "plt.show()\n",
    "# summarize history for loss\n",
    "plt.plot(history.history['loss'])\n",
    "plt.plot(history.history['val_loss'])\n",
    "plt.title('model loss')\n",
    "plt.ylabel('loss')\n",
    "plt.xlabel('epoch')\n",
    "plt.legend(['train', 'test'], loc='upper left')\n",
    "plt.show()"
   ],
   "metadata": {
    "collapsed": false,
    "pycharm": {
     "name": "#%%\n"
    }
   }
  }
 ],
 "metadata": {
  "kernelspec": {
   "display_name": "Python 3",
   "language": "python",
   "name": "python3"
  },
  "language_info": {
   "codemirror_mode": {
    "name": "ipython",
    "version": 2
   },
   "file_extension": ".py",
   "mimetype": "text/x-python",
   "name": "python",
   "nbconvert_exporter": "python",
   "pygments_lexer": "ipython2",
   "version": "2.7.6"
  }
 },
 "nbformat": 4,
 "nbformat_minor": 0
}